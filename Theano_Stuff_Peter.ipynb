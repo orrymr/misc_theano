{
 "cells": [
  {
   "cell_type": "raw",
   "metadata": {},
   "source": [
    "references: http://nbviewer.ipython.org/gist/triangleinequality/1350873eebea33973e41"
   ]
  },
  {
   "cell_type": "markdown",
   "metadata": {},
   "source": [
    "# This is how you compute a derivative"
   ]
  },
  {
   "cell_type": "code",
   "execution_count": 1,
   "metadata": {
    "collapsed": false
   },
   "outputs": [],
   "source": [
    "import theano\n",
    "from theano import tensor as T"
   ]
  },
  {
   "cell_type": "code",
   "execution_count": 9,
   "metadata": {
    "collapsed": false
   },
   "outputs": [],
   "source": [
    "x = T.dscalar('x')\n",
    "y = x**2 + 2\n",
    "\n",
    "fn = theano.function([x], y)"
   ]
  },
  {
   "cell_type": "code",
   "execution_count": 15,
   "metadata": {
    "collapsed": false
   },
   "outputs": [],
   "source": [
    "dy_by_dx = T.grad(y, x)\n",
    "deriv = theano.function([x], dy_by_dx)"
   ]
  },
  {
   "cell_type": "markdown",
   "metadata": {},
   "source": [
    "# This is how you use a shared variable"
   ]
  },
  {
   "cell_type": "raw",
   "metadata": {},
   "source": [
    "Shared variables are a way to give a function an internal state. The value may be shared between multiple functions. They are hybrid symbolic and non-symbolic variables.\n",
    "Theano variables only have a value within a theano function whereas shared theano variables have a value independent of being called in a function."
   ]
  },
  {
   "cell_type": "code",
   "execution_count": 17,
   "metadata": {
    "collapsed": false
   },
   "outputs": [],
   "source": [
    "from theano import shared"
   ]
  },
  {
   "cell_type": "code",
   "execution_count": 25,
   "metadata": {
    "collapsed": false
   },
   "outputs": [],
   "source": [
    "state = shared(0)\n",
    "inc = T.iscalar('inc')\n",
    "increment = theano.function([inc], state, updates = [(state, state + inc)])"
   ]
  },
  {
   "cell_type": "raw",
   "metadata": {},
   "source": [
    "Note the new \"updates\" parameter. It is a list of pairs (WHICH CAN ALSO BE A DICTIONARY). The first item in each pair is the shared variable to be updated, and the second is the new expression with which to replace it."
   ]
  },
  {
   "cell_type": "code",
   "execution_count": 26,
   "metadata": {
    "collapsed": false
   },
   "outputs": [
    {
     "name": "stdout",
     "output_type": "stream",
     "text": [
      "0\n",
      "5\n"
     ]
    }
   ],
   "source": [
    "print state.get_value()\n",
    "increment(5)\n",
    "print state.get_value()"
   ]
  },
  {
   "cell_type": "raw",
   "metadata": {},
   "source": [
    "Note: it may happen that you express a formula i.t.o a shared variable, but you don't want to use the shared variable's value. You can use the \"givens\" parameter to get around this."
   ]
  },
  {
   "cell_type": "markdown",
   "metadata": {},
   "source": [
    "# Scan"
   ]
  },
  {
   "cell_type": "code",
   "execution_count": 2,
   "metadata": {
    "collapsed": false
   },
   "outputs": [],
   "source": [
    "k = T.iscalar(\"k\")\n",
    "A = T.iscalar(\"A\")"
   ]
  },
  {
   "cell_type": "code",
   "execution_count": 3,
   "metadata": {
    "collapsed": false
   },
   "outputs": [],
   "source": [
    "results, updates = theano.scan(fn = lambda prior_result: prior_result * A, \n",
    "                                                         outputs_info = A,\n",
    "                                                         n_steps = k)"
   ]
  },
  {
   "cell_type": "code",
   "execution_count": 52,
   "metadata": {
    "collapsed": false
   },
   "outputs": [],
   "source": [
    "final_result = results[-1]"
   ]
  },
  {
   "cell_type": "code",
   "execution_count": 56,
   "metadata": {
    "collapsed": false
   },
   "outputs": [
    {
     "data": {
      "text/plain": [
       "OrderedUpdates()"
      ]
     },
     "execution_count": 56,
     "metadata": {},
     "output_type": "execute_result"
    }
   ],
   "source": []
  },
  {
   "cell_type": "code",
   "execution_count": 54,
   "metadata": {
    "collapsed": false
   },
   "outputs": [],
   "source": [
    "power = theano.function(inputs = [A, k], outputs = results, updates = updates)"
   ]
  },
  {
   "cell_type": "code",
   "execution_count": 55,
   "metadata": {
    "collapsed": false
   },
   "outputs": [
    {
     "data": {
      "text/plain": [
       "array([ 4,  8, 16, 32], dtype=int32)"
      ]
     },
     "execution_count": 55,
     "metadata": {},
     "output_type": "execute_result"
    }
   ],
   "source": [
    "power(2, 4)"
   ]
  },
  {
   "cell_type": "code",
   "execution_count": 29,
   "metadata": {
    "collapsed": false
   },
   "outputs": [],
   "source": [
    "i = T.iscalar('i')\n",
    "results, updates = theano.scan(fn=lambda previous_count: previous_count * 1,\n",
    "                            outputs_info=0,\n",
    "                            n_steps=i)"
   ]
  },
  {
   "cell_type": "markdown",
   "metadata": {},
   "source": [
    "# Scan ---> Factorial  (doesn't work)"
   ]
  },
  {
   "cell_type": "code",
   "execution_count": 121,
   "metadata": {
    "collapsed": false
   },
   "outputs": [],
   "source": [
    "results, updates = theano.scan(fn = lambda previous: previous * (A - 1),\n",
    "                                                     outputs_info = A,\n",
    "                                                     n_steps = A)"
   ]
  },
  {
   "cell_type": "code",
   "execution_count": 122,
   "metadata": {
    "collapsed": false
   },
   "outputs": [],
   "source": [
    "factorial = theano.function([A], outputs = results, updates = updates)"
   ]
  },
  {
   "cell_type": "code",
   "execution_count": 123,
   "metadata": {
    "collapsed": false
   },
   "outputs": [
    {
     "data": {
      "text/plain": [
       "array([ 12,  36, 108, 324], dtype=int32)"
      ]
     },
     "execution_count": 123,
     "metadata": {},
     "output_type": "execute_result"
    }
   ],
   "source": [
    "factorial(4)"
   ]
  },
  {
   "cell_type": "markdown",
   "metadata": {},
   "source": [
    "###Peter's Thoughts"
   ]
  },
  {
   "cell_type": "markdown",
   "metadata": {},
   "source": [
    "I would change a number of things in this code.\n",
    "* Variable A is used in the previous example, so the graphs generated by these examples are now connected. It's probably not a reason for this to fail, but I doubt it's what you intended. Reinitialise A, or use a different variable symbol.\n",
    "* results is the initial value of the computation (the first value that gets passed to previous). You probably want to set it to 1.0 (depending on how you choose to fix the other issues below).\n",
    "* updates isn't doing anything right now: there are no shared variables to update.\n",
    "* The state of the computation (the next value to multiply) is not being passed on."
   ]
  },
  {
   "cell_type": "markdown",
   "metadata": {},
   "source": [
    "Of course, this is for educational purposes, and you wouldn't actually compute a factorial this way, so I can't say what is the *correct* way to do it. Here is one way:\n",
    "* Accumulate the answer as we go along: you're already doing this.\n",
    "* Use an additional variable to store the next number to multiply with the accumulator.\n",
    "* Use a conditional ending to terminate the scan.\n",
    "\n",
    "I can't run this code, and I've never used Theano, so I expect there will be bugs. But hopefully it illustrates the key points."
   ]
  },
  {
   "cell_type": "code",
   "execution_count": null,
   "metadata": {
    "collapsed": true
   },
   "outputs": [],
   "source": [
    "def multiplyNext(acc, val):\n",
    "  return( acc*val, val-1, theano.scan_module.until(val < 2) )\n",
    "\n",
    "X = T.iscalar(\"X\")\n",
    "\n",
    "result, updates = theano.scan(\n",
    "  multiplyNext,\n",
    "  outputs_info = [ T.constant(1.0), X ],\n",
    "  strict = True )\n",
    "\n",
    "f = theano.function( [X], result )\n",
    "\n",
    "print( f(4) )\n",
    "print( f(5) )"
   ]
  },
  {
   "cell_type": "markdown",
   "metadata": {},
   "source": [
    "# Scanning over tensors"
   ]
  },
  {
   "cell_type": "code",
   "execution_count": 135,
   "metadata": {
    "collapsed": false
   },
   "outputs": [],
   "source": [
    "import numpy"
   ]
  },
  {
   "cell_type": "code",
   "execution_count": 136,
   "metadata": {
    "collapsed": false
   },
   "outputs": [
    {
     "name": "stdout",
     "output_type": "stream",
     "text": [
      "19.0\n",
      "19.0\n"
     ]
    }
   ],
   "source": [
    "coefficients = theano.tensor.vector(\"coefficients\")\n",
    "x = T.scalar(\"x\")\n",
    "\n",
    "max_coefficients_supported = 10000\n",
    "\n",
    "# Generate the components of the polynomial\n",
    "components, updates = theano.scan(fn=lambda coefficient, power, free_variable: coefficient * (free_variable ** power),\n",
    "                                  outputs_info=None,\n",
    "                                  sequences=[coefficients, theano.tensor.arange(max_coefficients_supported)],\n",
    "                                  non_sequences=x)\n",
    "# Sum them up\n",
    "polynomial = components.sum()\n",
    "\n",
    "# Compile a function\n",
    "calculate_polynomial = theano.function(inputs=[coefficients, x], outputs=polynomial)\n",
    "\n",
    "# Test\n",
    "test_coefficients = numpy.asarray([1, 0, 2], dtype=numpy.float32)\n",
    "test_value = 3\n",
    "print calculate_polynomial(test_coefficients, test_value)\n",
    "print 1.0 * (3 ** 0) + 0.0 * (3 ** 1) + 2.0 * (3 ** 2)"
   ]
  },
  {
   "cell_type": "code",
   "execution_count": null,
   "metadata": {
    "collapsed": false
   },
   "outputs": [],
   "source": []
  }
 ],
 "metadata": {
  "kernelspec": {
   "display_name": "Python 2",
   "language": "python",
   "name": "python2"
  },
  "language_info": {
   "codemirror_mode": {
    "name": "ipython",
    "version": 2
   },
   "file_extension": ".py",
   "mimetype": "text/x-python",
   "name": "python",
   "nbconvert_exporter": "python",
   "pygments_lexer": "ipython2",
   "version": "2.7.6"
  }
 },
 "nbformat": 4,
 "nbformat_minor": 0
}
